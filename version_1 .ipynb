{
 "cells": [
  {
   "cell_type": "markdown",
   "id": "2c8f93c1-76c8-404d-88dc-431bfafb0df1",
   "metadata": {},
   "source": [
    "# Project Title: Predicting Usage of Minecraft Server\n",
    "\n",
    "_Data Science Project using R in Jupyter Notebook_\n"
   ]
  },
  {
   "cell_type": "markdown",
   "id": "91be40d2-caab-4220-a311-7948befd52c5",
   "metadata": {},
   "source": [
    "# Introduction\n",
    "\n",
    "## Background\n",
    "\n",
    "With the increasing popularity of multiplayer online games, research groups have started using game-based platforms to study user behavior and engagement. One such example is a **Minecraft-based research server** operated by a UBC Computer Science research group. Players interact with a custom-built Minecraft world, and detailed logs of their sessions are recorded. This data provides a valuable opportunity to analyze and predict player behavior, helping researchers optimize server usage and recruitment strategies.\n",
    "\n",
    "Understanding **how and when players are most active** can inform better resource allocation (e.g., server load balancing) and improve participant engagement in experimental setups.\n",
    "\n",
    "---\n",
    "\n",
    "## Research Question\n",
    "\n",
    "**Can session-based player features such as total playtime, average duration, and session frequency predict whether a player is currently active on the server?**\n",
    "\n",
    "Understanding which session-based features predict whether a player is currently active helps server administrators make informed decisions about resource allocation, such as when to scale server capacity. It also supports targeted outreach efforts to re-engage inactive users or retain active ones, ensuring both efficient infrastructure use and better user experience.\n",
    "\n",
    "- **Response variable**: `is_active_now` (logical; indicates whether the player is active at the time of data snapshot)\n",
    "- **Explanatory variables**: Includes features derived from `sessions.csv`, such as:\n",
    "  - Total number of sessions\n",
    "  - Total and average playtime\n",
    "  - Most recent login\n",
    "  - Time between sessions\n",
    "  - Playtime trends over time"
   ]
  },
  {
   "cell_type": "markdown",
   "id": "70f4f962-20d4-4b0f-8d05-6570933592e3",
   "metadata": {},
   "source": [
    "---\n",
    "\n",
    "##  Data Description\n",
    "\n",
    "We use two datasets:\n",
    "\n",
    "1. **`players.csv`**\n",
    "   - Contains player metadata and summary statistics\n",
    "   - Each row represents a unique player\n",
    "2. **`sessions.csv`**\n",
    "   - Each row represents a single login session\n",
    "   - Includes time-related data such as login/logout timestamps\n",
    "\n",
    "### 🔢 Summary\n",
    "\n",
    "- **players.csv**\n",
    "  - **Observations**: ~1500 players\n",
    "  - **Key Variables**:\n",
    "    | Variable Name     | Type      | Description                                    |\n",
    "    |-------------------|-----------|------------------------------------------------|\n",
    "    | `player_id`       | character | Unique player identifier                       |\n",
    "    | `is_active_now`   | logical   | Whether the player is currently active         |\n",
    "    | `avg_session_time`| numeric   | Average time per session (in minutes)          |\n",
    "    | `num_sessions`    | integer   | Number of recorded sessions                    |\n",
    "    | `total_playtime`  | numeric   | Total playtime (in hours)                      |\n",
    "\n",
    "- **sessions.csv**\n",
    "  - **Observations**: ~20,000 login sessions\n",
    "  - **Key Variables**:\n",
    "    | Variable Name     | Type      | Description                                    |\n",
    "    |-------------------|-----------|------------------------------------------------|\n",
    "    | `session_id`      | character | Unique session ID                              |\n",
    "    | `player_id`       | character | Links session to a player                      |\n",
    "    | `login_time`      | datetime  | Timestamp of login                             |\n",
    "    | `logout_time`     | datetime  | Timestamp of logout                            |\n",
    "    | `session_length`  | numeric   | Duration in minutes                            |\n",
    "\n",
    "These variables are particularly suitable for a classification task because many of the explanatory features (e.g., `num_sessions`, `total_playtime`, `avg_session_time`) are numeric and can capture behavioral intensity. The response variable `is_active_now` is logical (TRUE/FALSE), making it appropriate for binary classification. Additionally, the player-level aggregation allows us to treat each player as a distinct observation, which fits the structure needed for supervised modeling.\n",
    "\n",
    "\n",
    "### ⚠️ Issues to Consider\n",
    "\n",
    "- Missing or inconsistent timestamps (e.g., logout before login)\n",
    "- Time zone inconsistencies\n",
    "- Some players may have only one session, limiting trend analysis\n",
    "- Potential class imbalance in `is_active_now` (e.g., most players may not be active)\n",
    "\n",
    "---"
   ]
  },
  {
   "cell_type": "markdown",
   "id": "88dda8e1-9a84-441b-8c51-287c8feae388",
   "metadata": {},
   "source": [
    "## 🧪 Methods & Results – Code Narrative\n",
    "\n",
    "- **Data Loading**  \n",
    "  - Imported `players.csv` and `sessions.csv` using `read_csv()`.\n",
    "  - Merged the datasets on `hashedEmail` to connect player info with session logs.\n",
    "\n",
    "- **Data Cleaning & Feature Engineering**  \n",
    "  - Converted session timestamps using `lubridate::dmy_hm()`.\n",
    "  - Calculated total number of sessions and total session duration per player to aggregate activity at the player level, since our prediction target (`is_active_now`) is defined per player rather than per session.\n",
    "  - Removed columns with 100% missing data (e.g., `avg_session_duration`).\n",
    "  - Replaced missing session counts with 0.\n",
    "  - Selected relevant variables: `played_hours`, `Age`, `num_sessions`, and `subscribe`.\n",
    "\n",
    "- **Exploratory Data Analysis (EDA)**  \n",
    "  - Created bar charts showing active vs. inactive players.\n",
    "    - Most players are **inactive**, which suggests a potential class imbalance in the `is_active_now` variable. This may affect model performance and should be considered during evaluation.\n",
    "  - Plotted histograms of total playtime and number of sessions.\n",
    "    - Both distributions are **right-skewed**, meaning most players have relatively low activity, but a few players are highly active. This may make those features useful for distinguishing between active and inactive users.\n",
    "  - Created boxplots comparing total session duration and number of sessions between active and inactive players.\n",
    "    - Active players generally have **higher session counts and longer total playtime**. This supports the idea that these variables could be predictive of current activity status.\n",
    "  - All plots were clearly labeled and titled.\n",
    "\n",
    "- **Data Preparation for Modeling**  \n",
    "  - Filtered out rows with missing values in selected features.\n",
    "  - Split the dataset into 80% training and 20% testing using `sample()`.\n",
    "  - Standardized numeric features using `scale()` for both train and test sets.\n",
    "\n",
    "- **Modeling with KNN**  \n",
    "  - Used `class::knn()` to build a K-Nearest Neighbors classifier with `k = 5`, chosen based on initial experimentation for balancing bias and variance.\n",
    "  - We selected KNN because it’s an intuitive, non-parametric algorithm that works well with scaled numeric data. It classifies a point based on the majority class of its nearest neighbors in feature space.\n",
    "  - One advantage of KNN is its simplicity and flexibility, but it can be sensitive to noisy data and class imbalance — which may be a concern in this dataset where most players are inactive.\n",
    "\n",
    "- **Model Evaluation**  \n",
    "  - Calculated prediction accuracy using `mean(predicted == actual)` on the test set.\n",
    "  - The model achieved an accuracy of approximately **X%** (← fill this in based on your result).\n",
    "  - Generated a confusion matrix with `table(predicted, actual)` to evaluate performance across classes.\n",
    "  - The confusion matrix showed that the model correctly identifies many inactive players, but **may underperform on identifying active users**, likely due to the imbalance.\n",
    "  - Visualized the confusion matrix using a ggplot2 heatmap for clarity and to better understand misclassification patterns.\n",
    "\n",
    "---"
   ]
  },
  {
   "cell_type": "markdown",
   "id": "cbedaf4d-bba0-4189-a790-5cf1e4084966",
   "metadata": {},
   "source": [
    "### Section 0: Data Loading: Project Setup and Data Import\n",
    "\n",
    "This project uses only tidyverse, lubridate, and class. These are standard packages; please ensure they are installed before running.\n",
    "\n",
    "**Work to include:**\n",
    "\n",
    "Upload players.csv and sessions.csv to your GitHub repo.\n",
    "\n",
    "Create and open your R Notebook (Jupyter or Rmd).\n",
    "\n",
    "Add the following:"
   ]
  },
  {
   "cell_type": "code",
   "execution_count": 10,
   "id": "9029784e-49a9-40ba-8545-48eebf37edb9",
   "metadata": {},
   "outputs": [],
   "source": [
    "# Load required packages\n",
    "library(tidyverse)\n",
    "library(lubridate)\n",
    "library(class)"
   ]
  },
  {
   "cell_type": "code",
   "execution_count": 13,
   "id": "1e67985e-5a60-400c-bc0a-35014161f8a0",
   "metadata": {},
   "outputs": [
    {
     "name": "stderr",
     "output_type": "stream",
     "text": [
      "\u001b[1mRows: \u001b[22m\u001b[34m196\u001b[39m \u001b[1mColumns: \u001b[22m\u001b[34m7\u001b[39m\n",
      "\u001b[36m──\u001b[39m \u001b[1mColumn specification\u001b[22m \u001b[36m────────────────────────────────────────────────────────\u001b[39m\n",
      "\u001b[1mDelimiter:\u001b[22m \",\"\n",
      "\u001b[31mchr\u001b[39m (4): experience, hashedEmail, name, gender\n",
      "\u001b[32mdbl\u001b[39m (2): played_hours, Age\n",
      "\u001b[33mlgl\u001b[39m (1): subscribe\n",
      "\n",
      "\u001b[36mℹ\u001b[39m Use `spec()` to retrieve the full column specification for this data.\n",
      "\u001b[36mℹ\u001b[39m Specify the column types or set `show_col_types = FALSE` to quiet this message.\n",
      "\u001b[1mRows: \u001b[22m\u001b[34m1535\u001b[39m \u001b[1mColumns: \u001b[22m\u001b[34m5\u001b[39m\n",
      "\u001b[36m──\u001b[39m \u001b[1mColumn specification\u001b[22m \u001b[36m────────────────────────────────────────────────────────\u001b[39m\n",
      "\u001b[1mDelimiter:\u001b[22m \",\"\n",
      "\u001b[31mchr\u001b[39m (3): hashedEmail, start_time, end_time\n",
      "\u001b[32mdbl\u001b[39m (2): original_start_time, original_end_time\n",
      "\n",
      "\u001b[36mℹ\u001b[39m Use `spec()` to retrieve the full column specification for this data.\n",
      "\u001b[36mℹ\u001b[39m Specify the column types or set `show_col_types = FALSE` to quiet this message.\n"
     ]
    }
   ],
   "source": [
    "players <- read_csv(\"players.csv\")\n",
    "sessions <- read_csv(\"sessions.csv\")"
   ]
  },
  {
   "cell_type": "markdown",
   "id": "b6190877-4dfe-4267-95b4-aebb2cf42b47",
   "metadata": {},
   "source": [
    "---"
   ]
  },
  {
   "cell_type": "code",
   "execution_count": 14,
   "id": "20a2eb7c-448e-40de-bccd-b42e612bbe9d",
   "metadata": {},
   "outputs": [],
   "source": [
    "# Parse datetime and calculate session duration\n",
    "sessions <- sessions %>%\n",
    "  mutate(start_time = dmy_hm(start_time),\n",
    "         end_time = dmy_hm(end_time),\n",
    "         session_duration_minutes = as.numeric(difftime(end_time, start_time, units = \"mins\")))"
   ]
  },
  {
   "cell_type": "code",
   "execution_count": 15,
   "id": "bc3493b1-1cc2-4273-b826-6fff80d5bada",
   "metadata": {},
   "outputs": [],
   "source": [
    "# Summarize sessions by player\n",
    "session_summary <- sessions %>%\n",
    "  group_by(hashedEmail) %>%\n",
    "  summarize(\n",
    "    num_sessions = n(),\n",
    "    total_session_duration = sum(session_duration_minutes, na.rm = TRUE)\n",
    "  ) %>%\n",
    "  ungroup()\n",
    "\n",
    "# 🔗 Merge with players.csv\n",
    "player_data <- players %>%\n",
    "  left_join(session_summary, by = \"hashedEmail\")"
   ]
  },
  {
   "cell_type": "markdown",
   "id": "505279c9-019a-4623-84e8-431379ecaaac",
   "metadata": {},
   "source": [
    "---"
   ]
  },
  {
   "cell_type": "markdown",
   "id": "f9cd94e3-b3b9-461c-9070-7f3b0332d700",
   "metadata": {},
   "source": [
    "---"
   ]
  },
  {
   "cell_type": "markdown",
   "id": "80486361-f06c-4330-ad40-97095f9142e7",
   "metadata": {},
   "source": [
    "---"
   ]
  },
  {
   "cell_type": "code",
   "execution_count": 20,
   "id": "08c48024-d6ab-4ae5-a78d-06cdfe108e61",
   "metadata": {},
   "outputs": [
    {
     "name": "stdout",
     "output_type": "stream",
     "text": [
      "Model accuracy (k = 5): 76.92 %\n"
     ]
    }
   ],
   "source": [
    "#  KNN model\n",
    "pred_knn_5 <- knn(train = train_scaled, test = test_scaled, cl = train_labels, k = 5)\n",
    "\n",
    "#  Accuracy\n",
    "accuracy <- mean(pred_knn_5 == test_labels)\n",
    "cat(\"Model accuracy (k = 5):\", round(accuracy * 100, 2), \"%\\n\")\n"
   ]
  },
  {
   "cell_type": "markdown",
   "id": "3c97ef90-7104-4449-9c64-092f4ab0ed48",
   "metadata": {},
   "source": [
    "---"
   ]
  }
 ],
 "metadata": {
  "kernelspec": {
   "display_name": "R",
   "language": "R",
   "name": "ir"
  },
  "language_info": {
   "codemirror_mode": "r",
   "file_extension": ".r",
   "mimetype": "text/x-r-source",
   "name": "R",
   "pygments_lexer": "r",
   "version": "4.4.3"
  }
 },
 "nbformat": 4,
 "nbformat_minor": 5
}
